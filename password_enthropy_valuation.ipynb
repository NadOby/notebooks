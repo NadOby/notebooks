{
 "cells": [
  {
   "cell_type": "markdown",
   "metadata": {},
   "source": [
    "# Passwords enthropy valuation\n",
    "\n",
    "Passwords should consist of ASCII printable characters.\n",
    "\n",
    "Good point is to exclude all the whitespace characters.\n",
    "\n",
    "Formulate to count all the combinations:\n",
    "\n",
    "without repetiotions\n",
    "$$\\binom{n}{k} = \\frac{n!}{k!(n-k)!}$$\n",
    "with repetiotions\n",
    "$$\\binom{n}{k} = \\frac{(k + n - 1)!} {k!(n-1)!}$$\n"
   ]
  },
  {
   "cell_type": "code",
   "execution_count": 1,
   "metadata": {},
   "outputs": [
    {
     "data": {
      "text/markdown": [
       "## Computation results without repeatitions:"
      ],
      "text/plain": [
       "<IPython.core.display.Markdown object>"
      ]
     },
     "metadata": {},
     "output_type": "display_data"
    },
    {
     "data": {
      "text/markdown": [
       "|Password length|Letter size|Printable size|Letters|Printable characters|\n",
       "|:---|---|---|---|---|\n",
       "|1|5.20E+01|9.40E+01|52|94|\n",
       "|2|1.33E+03|4.37E+03|1326|4371|\n",
       "|3|2.21E+04|1.34E+05|22100|134044|\n",
       "|4|2.71E+05|3.05E+06|270725|3049501|\n",
       "|5|2.60E+06|5.49E+07|2598960|54891018|\n",
       "|6|2.04E+07|8.14E+08|20358520|814216767|\n",
       "|7|1.34E+08|1.02E+10|133784560|10235867928|\n",
       "|8|7.53E+08|1.11E+11|752538150|111315063717|\n",
       "|9|3.68E+09|1.06E+12|3679075400|1063677275518|\n",
       "|10|1.58E+10|9.04E+12|15820024220|9041256841903|\n",
       "|11|6.04E+10|6.90E+13|60403728840|69042324974532|\n",
       "|12|2.06E+11|4.78E+14|206379406870|477542747740513|\n",
       "|13|6.35E+11|3.01E+15|635013559600|3012192716517082|\n",
       "|14|1.77E+12|1.74E+16|1768966344600|17427686431277403|\n",
       "|15|4.48E+12|9.29E+16|4481381406320|92947660966812816|\n",
       "|16|1.04E+13|4.59E+17|10363194502115|458929076023638279|\n",
       "|17|2.19E+13|2.11E+18|21945588357420|2105674584108457986|\n",
       "|18|4.27E+13|9.01E+18|42671977361650|9007607943130625829|\n",
       "|19|7.64E+13|3.60E+19|76360380541900|36030431772522503316|\n",
       "|20|1.26E+14|1.35E+20|125994627894135|135114119146959387435|\n"
      ],
      "text/plain": [
       "<IPython.core.display.Markdown object>"
      ]
     },
     "metadata": {},
     "output_type": "display_data"
    },
    {
     "data": {
      "text/markdown": [
       "## Computation results with repeatitions:"
      ],
      "text/plain": [
       "<IPython.core.display.Markdown object>"
      ]
     },
     "metadata": {},
     "output_type": "display_data"
    },
    {
     "data": {
      "text/markdown": [
       "|Password length|Letter size|Printable size|Letters|Printable characters|\n",
       "|:---|---|---|---|---|\n",
       "|1|5.20E+01|9.40E+01|52|94|\n",
       "|2|1.38E+03|4.46E+03|1378|4465|\n",
       "|3|2.48E+04|1.43E+05|24804|142880|\n",
       "|4|3.41E+05|3.46E+06|341055|3464840|\n",
       "|5|3.82E+06|6.79E+07|3819816|67910864|\n",
       "|6|3.63E+07|1.12E+09|36288252|1120529256|\n",
       "|7|3.01E+08|1.60E+10|300674088|16007560800|\n",
       "|8|2.22E+09|2.02E+11|2217471399|202095455100|\n",
       "|9|1.48E+10|2.29E+12|14783142660|2290415157800|\n",
       "|10|9.02E+10|2.36E+13|90177170226|23591276125340|\n",
       "|11|5.08E+11|2.23E+14|508271323092|223044792457760|\n",
       "|12|2.67E+12|1.95E+15|2668424446233|1951641934005400|\n",
       "|13|1.31E+13|1.59E+16|13136858812224|15913388077274800|\n",
       "|14|6.10E+13|1.22E+17|60992558771040|121623751733457400|\n",
       "|15|2.68E+14|8.76E+17|268367258592576|875691012480893280|\n",
       "|16|1.12E+15|5.97E+18|1123787895356412|5965645022526085470|\n",
       "|17|4.50E+15|3.86E+19|4495151581425648|38601232498698200100|\n",
       "|18|1.72E+16|2.38E+20|17231414395464984|238040933741972233950|\n",
       "|19|6.35E+16|1.40E+21|63484158299081520|1403188662057941589600|\n",
       "|20|2.25E+17|7.93E+21|225368761961739396|7928015940627369981240|\n"
      ],
      "text/plain": [
       "<IPython.core.display.Markdown object>"
      ]
     },
     "metadata": {},
     "output_type": "display_data"
    }
   ],
   "source": [
    "import string\n",
    "from scipy.special import comb\n",
    "from IPython.display import display, Markdown\n",
    "\n",
    "def print_comb_table (repeat=False):\n",
    "    fmt = '|{}|{}|{}|{}|{}|\\n'\n",
    "    txt = fmt.format(\"Password length\", \"Letter size\", \"Printable size\", \"Letters\", \"Printable characters\")\n",
    "    txt += fmt.format(\":---\", \"---\", \"---\", \"---\", \"---\")\n",
    "\n",
    "    for i in range(1, 21):\n",
    "        letters_H = comb(len(string.ascii_letters), i, exact=True, repetition=repeat)\n",
    "        printable_H = comb(len(string.printable[:-6]), i, exact=True, repetition=repeat)\n",
    "        txt += '|{}|{:.2E}|{:.2E}|{}|{}|\\n'.format(i, letters_H, printable_H, letters_H, printable_H)\n",
    "    if not repeat:\n",
    "        out = \"out\"\n",
    "    else:\n",
    "        out = \"\"\n",
    "    display(Markdown(\"## Computation results with\" + out + \" repeatitions:\"))\n",
    "    display(Markdown(txt))\n",
    "\n",
    "print_comb_table(repeat=False)\n",
    "print_comb_table(repeat=True)"
   ]
  }
 ],
 "metadata": {
  "kernelspec": {
   "display_name": "Python 3",
   "language": "python",
   "name": "python3"
  },
  "language_info": {
   "codemirror_mode": {
    "name": "ipython",
    "version": 3
   },
   "file_extension": ".py",
   "mimetype": "text/x-python",
   "name": "python",
   "nbconvert_exporter": "python",
   "pygments_lexer": "ipython3",
   "version": "3.7.2"
  }
 },
 "nbformat": 4,
 "nbformat_minor": 2
}
