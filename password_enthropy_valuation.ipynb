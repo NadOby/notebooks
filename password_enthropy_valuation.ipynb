{
 "cells": [
  {
   "cell_type": "markdown",
   "metadata": {},
   "source": [
    "# Passwords enthropy valuation\n",
    "\n",
    "Passwords should consist of ASCII printable characters.\n",
    "\n",
    "Good point is to exclude all the whitespace characters.\n",
    "\n",
    "Formulate to count all the combinations:\n",
    "\n",
    "without repetiotions\n",
    "$$\\binom{n}{k} = \\frac{n!}{k!(n-k)!}$$\n",
    "with repetiotions\n",
    "$$\\binom{n}{k} = \\frac{(k + n - 1)!} {k!(n-1)!}$$\n"
   ]
  },
  {
   "cell_type": "code",
   "execution_count": null,
   "metadata": {},
   "outputs": [],
   "source": [
    "import string\n",
    "from scipy.special import comb\n",
    "from IPython.display import display, Markdown\n",
    "\n",
    "def print_comb_table (repeat=False):\n",
    "    fmt = '|{}|{}|{}|{}|{}|\\n'\n",
    "    txt = fmt.format(\"Password length\", \"Letter size\", \"Printable size\", \"Letters\", \"Printable characters\")\n",
    "    txt += fmt.format(\"---\", \"---\", \"---\", \"---\", \"---\")\n",
    "\n",
    "    for i in range(1, 21):\n",
    "        letters_H = comb(len(string.ascii_letters), i, exact=True, repetition=repeat)\n",
    "        printable_H = comb(len(string.printable[:-6]), i, exact=True, repetition=repeat)\n",
    "        txt += '|{}|{:.2E}|{:.2E}|{}|{}|\\n'.format(i, letters_H, printable_H, letters_H, printable_H)\n",
    "    if not repeat:\n",
    "        out = \"out\"\n",
    "    else:\n",
    "        out = \"\"\n",
    "    display(Markdown(\"## Computation results with\" + out + \" repeatitions:\"))\n",
    "    display(Markdown(txt))\n",
    "\n",
    "print_comb_table(repeat=False)\n",
    "print_comb_table(repeat=True)"
   ]
  }
 ],
 "metadata": {
  "kernelspec": {
   "display_name": "Python 3",
   "language": "python",
   "name": "python3"
  },
  "language_info": {
   "codemirror_mode": {
    "name": "ipython",
    "version": 3
   },
   "file_extension": ".py",
   "mimetype": "text/x-python",
   "name": "python",
   "nbconvert_exporter": "python",
   "pygments_lexer": "ipython3",
   "version": "3.7.2"
  }
 },
 "nbformat": 4,
 "nbformat_minor": 2
}
