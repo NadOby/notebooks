{
 "cells": [
  {
   "cell_type": "code",
   "execution_count": null,
   "metadata": {},
   "outputs": [],
   "source": [
    "age = 36\n",
    "pulse_rest = 70\n",
    "\n",
    "def calc_pulse(age, hr_rest):\n",
    "    hr_max = (205.8 - 0.685 * age)\n",
    "    hr_reserve = hr_max - hr_rest\n",
    "    recovery = hr_rest + hr_reserve * 0.5\n",
    "    aerobic = hr_rest + hr_reserve * 0.6\n",
    "    anaerobic = hr_rest + hr_reserve * 0.8\n",
    "    print (\"Maximum:\\t{:.0f}\\nRecovery:\\t{:.0f}\\nAerobic\\t\\t{:.0f}\\nAnaerobic\\t{:.0f}\"\\\n",
    "           .format(hr_max, recovery, aerobic, anaerobic))\n",
    "\n",
    "calc_pulse(age, pulse_rest)"
   ]
  }
 ],
 "metadata": {
  "kernelspec": {
   "display_name": "Python 3",
   "language": "python",
   "name": "python3"
  },
  "language_info": {
   "codemirror_mode": {
    "name": "ipython",
    "version": 3
   },
   "file_extension": ".py",
   "mimetype": "text/x-python",
   "name": "python",
   "nbconvert_exporter": "python",
   "pygments_lexer": "ipython3",
   "version": "3.7.3"
  }
 },
 "nbformat": 4,
 "nbformat_minor": 2
}
